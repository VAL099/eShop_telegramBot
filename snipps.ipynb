{
 "cells": [
  {
   "cell_type": "markdown",
   "metadata": {},
   "source": [
    "pyreverse -o png C:\\Users\\valer\\Desktop\\TMPS_proj\\factories -A "
   ]
  },
  {
   "cell_type": "markdown",
   "metadata": {},
   "source": [
    "#db design\n",
    "\n",
    "'table_sellers = [id, userId, name, username, phonenum]'\n",
    "\n",
    "'table_products = [id, name, category, subcategory, price, seller(username, phone), description, image, label1(bool), label2(bool), label3(bool), (optional)gif]'"
   ]
  },
  {
   "cell_type": "code",
   "execution_count": null,
   "metadata": {},
   "outputs": [],
   "source": [
    "import sqlite3\n",
    "from db_conn import *\n",
    "conn = sqlite3.connect('db/shoppyBot.db', check_same_thread = False)\n",
    "cursor = conn.cursor()\n",
    "uId = '381853013'\n",
    "x = cursor.execute('select userId from sellers where userId = ?', (uId,)).fetchall()\n",
    "print(x)\n",
    "if uId in x: print('TRUE!')\n",
    "else: print('FALSE!')\n"
   ]
  },
  {
   "cell_type": "code",
   "execution_count": null,
   "metadata": {},
   "outputs": [],
   "source": [
    "import sqlite3\n",
    "from db_conn import *\n",
    "conn = sqlite3.connect('db/shoppyBot.db', check_same_thread = False)\n",
    "cursor = conn.cursor()\n",
    "from featuredStrategy import *\n",
    "strategy = Context(PromoteByPriceLabel).select_alg(cursor)\n",
    "print(strategy[1])"
   ]
  },
  {
   "cell_type": "code",
   "execution_count": null,
   "metadata": {},
   "outputs": [],
   "source": [
    "import sqlite3\n",
    "from db_conn import *\n",
    "conn = sqlite3.connect('db/shoppyBot.db', check_same_thread = False)\n",
    "cursor = conn.cursor()\n",
    "uid = '12354845312'\n",
    "his1 = 'hello'\n",
    "his2 = 'world'\n",
    "cursor.execute('insert into searchHistory(userId, reqCat, reqSubcat) values (?,?,?)', (uid, his1, his2))\n",
    "conn.commit()"
   ]
  },
  {
   "cell_type": "code",
   "execution_count": 4,
   "metadata": {},
   "outputs": [],
   "source": [
    "import sqlite3\n",
    "from db_conn import *\n",
    "conn = sqlite3.connect('db/shoppyBot.db', check_same_thread = False)\n",
    "cursor = conn.cursor()\n",
    "uid = '123'\n",
    "his1 = 'zdarowa'\n",
    "his2 = 'lume'\n",
    "cursor.execute('update searchHistory set reqCat = ?, reqSubcat = ? where userId = ?', (his1, his2, uid))\n",
    "conn.commit()"
   ]
  },
  {
   "cell_type": "code",
   "execution_count": 2,
   "metadata": {},
   "outputs": [
    {
     "name": "stdout",
     "output_type": "stream",
     "text": [
      "[(381853013,)]\n",
      "True\n"
     ]
    }
   ],
   "source": [
    "import sqlite3\n",
    "conn = sqlite3.connect('db/shoppyBot.db', check_same_thread = False)\n",
    "cursor = conn.cursor()\n",
    "from handlers import *\n",
    "controlReq = observerHandler(cursor, 381853013)\n",
    "print(controlReq)\n"
   ]
  },
  {
   "cell_type": "code",
   "execution_count": 2,
   "metadata": {},
   "outputs": [],
   "source": [
    "import sqlite3\n",
    "conn = sqlite3.connect('db/shoppyBot.db', check_same_thread = False)\n",
    "cursor = conn.cursor()\n",
    "\n",
    "uuId = 381853013\n",
    "data = cursor.execute('select reqCat, reqSubcat from SearchHistory where userId = ?', (uuId,)).fetchall()[0]\n",
    "cat, subcat = data"
   ]
  },
  {
   "cell_type": "code",
   "execution_count": 29,
   "metadata": {},
   "outputs": [
    {
     "name": "stdout",
     "output_type": "stream",
     "text": [
      "2\n"
     ]
    }
   ],
   "source": [
    "import sqlite3\n",
    "conn = sqlite3.connect('db/shoppyBot.db', check_same_thread = False)\n",
    "cursor = conn.cursor()\n",
    "\n",
    "cat = 'eDevices'\n",
    "subcat = 'Smartphone'\n",
    "adverts = []\n",
    "out = cursor.execute('select * from products where category = ? and subcategory = ? and qualityLabel = 1 UNION select * from products where category = ? and subcategory = ? and priceLabel = 1', (cat, subcat, cat, subcat)).fetchall()\n",
    "for data in out:\n",
    "    adverts.append(data)\n",
    "print(len(adverts))"
   ]
  }
 ],
 "metadata": {
  "interpreter": {
   "hash": "4f5b2c380725c55eabb542c2a6d2f856df7598a7dd0058485e58b5c1032b121d"
  },
  "kernelspec": {
   "display_name": "Python 3.10.3 64-bit",
   "language": "python",
   "name": "python3"
  },
  "language_info": {
   "codemirror_mode": {
    "name": "ipython",
    "version": 3
   },
   "file_extension": ".py",
   "mimetype": "text/x-python",
   "name": "python",
   "nbconvert_exporter": "python",
   "pygments_lexer": "ipython3",
   "version": "3.10.3"
  },
  "orig_nbformat": 4
 },
 "nbformat": 4,
 "nbformat_minor": 2
}
